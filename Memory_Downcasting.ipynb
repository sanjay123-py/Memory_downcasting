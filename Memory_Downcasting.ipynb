{
 "cells": [
  {
   "cell_type": "markdown",
   "id": "982431bc",
   "metadata": {},
   "source": [
    "# Memory Optimization in Pandas by  Downcasting and changing the dtypes"
   ]
  },
  {
   "cell_type": "code",
   "execution_count": 1,
   "id": "00472a7c",
   "metadata": {},
   "outputs": [
    {
     "data": {
      "text/html": [
       "        <script type=\"text/javascript\">\n",
       "        window.PlotlyConfig = {MathJaxConfig: 'local'};\n",
       "        if (window.MathJax) {MathJax.Hub.Config({SVG: {font: \"STIX-Web\"}});}\n",
       "        if (typeof require !== 'undefined') {\n",
       "        require.undef(\"plotly\");\n",
       "        requirejs.config({\n",
       "            paths: {\n",
       "                'plotly': ['https://cdn.plot.ly/plotly-2.9.0.min']\n",
       "            }\n",
       "        });\n",
       "        require(['plotly'], function(Plotly) {\n",
       "            window._Plotly = Plotly;\n",
       "        });\n",
       "        }\n",
       "        </script>\n",
       "        "
      ]
     },
     "metadata": {},
     "output_type": "display_data"
    }
   ],
   "source": [
    "import pandas as pd\n",
    "import numpy as np\n",
    "import seaborn as sns\n",
    "import matplotlib.pyplot as plt\n",
    "import cufflinks as cf"
   ]
  },
  {
   "cell_type": "code",
   "execution_count": 2,
   "id": "3548cb43",
   "metadata": {},
   "outputs": [],
   "source": [
    "titanic_data=sns.load_dataset('titanic')"
   ]
  },
  {
   "cell_type": "code",
   "execution_count": 3,
   "id": "645ba89f",
   "metadata": {},
   "outputs": [],
   "source": [
    "titanic_data[['deck','class']]=titanic_data[['deck','class']].astype('object')"
   ]
  },
  {
   "cell_type": "code",
   "execution_count": 4,
   "id": "5fb32723",
   "metadata": {
    "scrolled": true
   },
   "outputs": [
    {
     "name": "stdout",
     "output_type": "stream",
     "text": [
      "<class 'pandas.core.frame.DataFrame'>\n",
      "RangeIndex: 891 entries, 0 to 890\n",
      "Data columns (total 15 columns):\n",
      " #   Column       Non-Null Count  Dtype  \n",
      "---  ------       --------------  -----  \n",
      " 0   survived     891 non-null    int64  \n",
      " 1   pclass       891 non-null    int64  \n",
      " 2   sex          891 non-null    object \n",
      " 3   age          714 non-null    float64\n",
      " 4   sibsp        891 non-null    int64  \n",
      " 5   parch        891 non-null    int64  \n",
      " 6   fare         891 non-null    float64\n",
      " 7   embarked     889 non-null    object \n",
      " 8   class        891 non-null    object \n",
      " 9   who          891 non-null    object \n",
      " 10  adult_male   891 non-null    bool   \n",
      " 11  deck         203 non-null    object \n",
      " 12  embark_town  889 non-null    object \n",
      " 13  alive        891 non-null    object \n",
      " 14  alone        891 non-null    bool   \n",
      "dtypes: bool(2), float64(2), int64(4), object(7)\n",
      "memory usage: 92.4+ KB\n"
     ]
    }
   ],
   "source": [
    "titanic_data.info()"
   ]
  },
  {
   "cell_type": "markdown",
   "id": "49ed2890",
   "metadata": {},
   "source": [
    "### we can see the dataset's memory usage is ~ 92.4 KB\n"
   ]
  },
  {
   "cell_type": "code",
   "execution_count": 6,
   "id": "73351972",
   "metadata": {},
   "outputs": [
    {
     "name": "stdout",
     "output_type": "stream",
     "text": [
      "CPU times: user 1.02 ms, sys: 257 µs, total: 1.27 ms\n",
      "Wall time: 1.07 ms\n"
     ]
    },
    {
     "data": {
      "text/html": [
       "<div>\n",
       "<style scoped>\n",
       "    .dataframe tbody tr th:only-of-type {\n",
       "        vertical-align: middle;\n",
       "    }\n",
       "\n",
       "    .dataframe tbody tr th {\n",
       "        vertical-align: top;\n",
       "    }\n",
       "\n",
       "    .dataframe thead th {\n",
       "        text-align: right;\n",
       "    }\n",
       "</style>\n",
       "<table border=\"1\" class=\"dataframe\">\n",
       "  <thead>\n",
       "    <tr style=\"text-align: right;\">\n",
       "      <th></th>\n",
       "      <th>who</th>\n",
       "      <th>deck</th>\n",
       "    </tr>\n",
       "  </thead>\n",
       "  <tbody>\n",
       "    <tr>\n",
       "      <th>0</th>\n",
       "      <td>man</td>\n",
       "      <td>NaN</td>\n",
       "    </tr>\n",
       "    <tr>\n",
       "      <th>1</th>\n",
       "      <td>woman</td>\n",
       "      <td>C</td>\n",
       "    </tr>\n",
       "    <tr>\n",
       "      <th>2</th>\n",
       "      <td>woman</td>\n",
       "      <td>NaN</td>\n",
       "    </tr>\n",
       "    <tr>\n",
       "      <th>3</th>\n",
       "      <td>woman</td>\n",
       "      <td>C</td>\n",
       "    </tr>\n",
       "    <tr>\n",
       "      <th>4</th>\n",
       "      <td>man</td>\n",
       "      <td>NaN</td>\n",
       "    </tr>\n",
       "    <tr>\n",
       "      <th>...</th>\n",
       "      <td>...</td>\n",
       "      <td>...</td>\n",
       "    </tr>\n",
       "    <tr>\n",
       "      <th>886</th>\n",
       "      <td>man</td>\n",
       "      <td>NaN</td>\n",
       "    </tr>\n",
       "    <tr>\n",
       "      <th>887</th>\n",
       "      <td>woman</td>\n",
       "      <td>B</td>\n",
       "    </tr>\n",
       "    <tr>\n",
       "      <th>888</th>\n",
       "      <td>woman</td>\n",
       "      <td>NaN</td>\n",
       "    </tr>\n",
       "    <tr>\n",
       "      <th>889</th>\n",
       "      <td>man</td>\n",
       "      <td>C</td>\n",
       "    </tr>\n",
       "    <tr>\n",
       "      <th>890</th>\n",
       "      <td>man</td>\n",
       "      <td>NaN</td>\n",
       "    </tr>\n",
       "  </tbody>\n",
       "</table>\n",
       "<p>891 rows × 2 columns</p>\n",
       "</div>"
      ],
      "text/plain": [
       "       who deck\n",
       "0      man  NaN\n",
       "1    woman    C\n",
       "2    woman  NaN\n",
       "3    woman    C\n",
       "4      man  NaN\n",
       "..     ...  ...\n",
       "886    man  NaN\n",
       "887  woman    B\n",
       "888  woman  NaN\n",
       "889    man    C\n",
       "890    man  NaN\n",
       "\n",
       "[891 rows x 2 columns]"
      ]
     },
     "execution_count": 6,
     "metadata": {},
     "output_type": "execute_result"
    }
   ],
   "source": [
    "%%time\n",
    "titanic_data[['who','deck']]"
   ]
  },
  {
   "cell_type": "markdown",
   "id": "12134ef8",
   "metadata": {},
   "source": [
    "## Numeric dtype Downcasting"
   ]
  },
  {
   "cell_type": "code",
   "execution_count": 7,
   "id": "aa9d9e8a",
   "metadata": {},
   "outputs": [],
   "source": [
    "def downcaste_dtype(df):\n",
    "    previous_memory_consumption=(df.memory_usage().sum())/1024**2 ## Usage in MB\n",
    "    for col in df.columns:\n",
    "        col_dtype=df[col].dtypes\n",
    "        if(col_dtype!='object'):\n",
    "            xmin=df[col].min()\n",
    "            xmax=df[col].max()\n",
    "            if(str(df[col].dtype)[0]=='i'): #for int downcasting\n",
    "                if(np.iinfo('int8').min<xmin and np.iinfo('int8').max>xmax):\n",
    "                    df[col]=df[col].astype('int8')\n",
    "                    \n",
    "                elif(np.iinfo('int16').min<xmin and np.iinfo('int16').max>xmax):\n",
    "                    df[col]=df[col].astype('int16')\n",
    "                    \n",
    "                elif(np.iinfo('int32').min<xmin and np.iinfo('int32').max>xmax):\n",
    "                    df[col]=df[col].astype('int32')\n",
    "                    \n",
    "                elif(np.iinfo('int64').min<xmin and np.iinfo('int64').max>xmax):\n",
    "                    df[col]=df[col].astype('int64')\n",
    "                    \n",
    "            elif(str(df[col].dtype)[0]=='f'): #for float downcasting\n",
    "                if(np.finfo('float16').min<xmin and np.finfo('float16').max>xmax):\n",
    "                    df[col]=df[col].astype('float16')\n",
    "                    \n",
    "                elif(np.finfo('float32').min<xmin and np.finfo('float32').max>xmax):\n",
    "                    df[col]=df[col].astype('float32')\n",
    "                    \n",
    "                elif(np.finfo('float64').min<xmin and np.finfo('float64').max>xmax):\n",
    "                    df[col]=df[col].astype('float64')\n",
    "            else:pass\n",
    "    After_memory_consumption=(df.memory_usage().sum())/1024**2\n",
    "    percentage_of_decrease=((previous_memory_consumption-After_memory_consumption)/previous_memory_consumption)*100\n",
    "    print('Memory usage before downcasting: {:.2f}\\n'.format(previous_memory_consumption))\n",
    "    print('After Downcasting the memory usage decreased by: {:.2f}\\n'.format(After_memory_consumption))\n",
    "    print('Memory usage decreased by {:.3f}%'.format(percentage_of_decrease))    "
   ]
  },
  {
   "cell_type": "code",
   "execution_count": 8,
   "id": "01eeabca",
   "metadata": {},
   "outputs": [
    {
     "name": "stdout",
     "output_type": "stream",
     "text": [
      "Memory usage before downcasting: 0.09\n",
      "\n",
      "After Downcasting the memory usage decreased by: 0.06\n",
      "\n",
      "Memory usage decreased by 37.685%\n"
     ]
    }
   ],
   "source": [
    "downcaste_dtype(titanic_data)"
   ]
  },
  {
   "cell_type": "markdown",
   "id": "3fd6418d",
   "metadata": {},
   "source": [
    "# Object dtype Downcasting"
   ]
  },
  {
   "cell_type": "markdown",
   "id": "9a92ba78",
   "metadata": {},
   "source": [
    "## Changing the required objects datatypes into categorical datatypes"
   ]
  },
  {
   "cell_type": "markdown",
   "id": "8d92afeb",
   "metadata": {},
   "source": [
    "### In Titanic dataset all the objects are of categorical so instead of doing it explicitly we can automate it by defining a function"
   ]
  },
  {
   "cell_type": "code",
   "execution_count": 9,
   "id": "2719e4f1",
   "metadata": {},
   "outputs": [],
   "source": [
    "def titanic_downcast_obj(df):\n",
    "    previous_memory_consumption=(df.memory_usage().sum())/1024**2\n",
    "    for col in df.columns:\n",
    "        col_dtype=df[col].dtypes\n",
    "        if(col_dtype=='object'):\n",
    "            df[col]=df[col].astype('category')\n",
    "    After_memory_consumption=(df.memory_usage().sum())/1024**2\n",
    "    percentage_of_decrease=((previous_memory_consumption-After_memory_consumption)/previous_memory_consumption)*100\n",
    "    print('Memory usage before downcasting: {:.2f}\\n'.format(previous_memory_consumption))\n",
    "    print('After Downcasting the memory usage decreased by: {:.2f}\\n'.format(After_memory_consumption))\n",
    "    print('Memory usage decreased by: {:.3f}%'.format(percentage_of_decrease))"
   ]
  },
  {
   "cell_type": "code",
   "execution_count": 10,
   "id": "6f62e915",
   "metadata": {},
   "outputs": [
    {
     "name": "stdout",
     "output_type": "stream",
     "text": [
      "Memory usage before downcasting: 0.06\n",
      "\n",
      "After Downcasting the memory usage decreased by: 0.02\n",
      "\n",
      "Memory usage decreased by: 72.160%\n"
     ]
    }
   ],
   "source": [
    "titanic_downcast_obj(titanic_data)"
   ]
  },
  {
   "cell_type": "code",
   "execution_count": 11,
   "id": "31d2e853",
   "metadata": {},
   "outputs": [],
   "source": [
    "## 72% of memory consumption decreases only by reducing object to category"
   ]
  },
  {
   "cell_type": "code",
   "execution_count": 12,
   "id": "8b6fe44f",
   "metadata": {},
   "outputs": [
    {
     "name": "stdout",
     "output_type": "stream",
     "text": [
      "<class 'pandas.core.frame.DataFrame'>\n",
      "RangeIndex: 891 entries, 0 to 890\n",
      "Data columns (total 15 columns):\n",
      " #   Column       Non-Null Count  Dtype   \n",
      "---  ------       --------------  -----   \n",
      " 0   survived     891 non-null    int8    \n",
      " 1   pclass       891 non-null    int8    \n",
      " 2   sex          891 non-null    category\n",
      " 3   age          714 non-null    float16 \n",
      " 4   sibsp        891 non-null    int8    \n",
      " 5   parch        891 non-null    int8    \n",
      " 6   fare         891 non-null    float16 \n",
      " 7   embarked     889 non-null    category\n",
      " 8   class        891 non-null    category\n",
      " 9   who          891 non-null    category\n",
      " 10  adult_male   891 non-null    bool    \n",
      " 11  deck         203 non-null    category\n",
      " 12  embark_town  889 non-null    category\n",
      " 13  alive        891 non-null    category\n",
      " 14  alone        891 non-null    bool    \n",
      "dtypes: bool(2), category(7), float16(2), int8(4)\n",
      "memory usage: 16.0 KB\n"
     ]
    }
   ],
   "source": [
    "titanic_data.info()"
   ]
  },
  {
   "cell_type": "markdown",
   "id": "63e65d46",
   "metadata": {},
   "source": [
    "# From 92.4+ KB to 16 KB"
   ]
  },
  {
   "cell_type": "code",
   "execution_count": 13,
   "id": "fa77e1a5",
   "metadata": {},
   "outputs": [
    {
     "name": "stdout",
     "output_type": "stream",
     "text": [
      "CPU times: user 887 µs, sys: 235 µs, total: 1.12 ms\n",
      "Wall time: 923 µs\n"
     ]
    },
    {
     "data": {
      "text/html": [
       "<div>\n",
       "<style scoped>\n",
       "    .dataframe tbody tr th:only-of-type {\n",
       "        vertical-align: middle;\n",
       "    }\n",
       "\n",
       "    .dataframe tbody tr th {\n",
       "        vertical-align: top;\n",
       "    }\n",
       "\n",
       "    .dataframe thead th {\n",
       "        text-align: right;\n",
       "    }\n",
       "</style>\n",
       "<table border=\"1\" class=\"dataframe\">\n",
       "  <thead>\n",
       "    <tr style=\"text-align: right;\">\n",
       "      <th></th>\n",
       "      <th>who</th>\n",
       "      <th>deck</th>\n",
       "    </tr>\n",
       "  </thead>\n",
       "  <tbody>\n",
       "    <tr>\n",
       "      <th>0</th>\n",
       "      <td>man</td>\n",
       "      <td>NaN</td>\n",
       "    </tr>\n",
       "    <tr>\n",
       "      <th>1</th>\n",
       "      <td>woman</td>\n",
       "      <td>C</td>\n",
       "    </tr>\n",
       "    <tr>\n",
       "      <th>2</th>\n",
       "      <td>woman</td>\n",
       "      <td>NaN</td>\n",
       "    </tr>\n",
       "    <tr>\n",
       "      <th>3</th>\n",
       "      <td>woman</td>\n",
       "      <td>C</td>\n",
       "    </tr>\n",
       "    <tr>\n",
       "      <th>4</th>\n",
       "      <td>man</td>\n",
       "      <td>NaN</td>\n",
       "    </tr>\n",
       "    <tr>\n",
       "      <th>...</th>\n",
       "      <td>...</td>\n",
       "      <td>...</td>\n",
       "    </tr>\n",
       "    <tr>\n",
       "      <th>886</th>\n",
       "      <td>man</td>\n",
       "      <td>NaN</td>\n",
       "    </tr>\n",
       "    <tr>\n",
       "      <th>887</th>\n",
       "      <td>woman</td>\n",
       "      <td>B</td>\n",
       "    </tr>\n",
       "    <tr>\n",
       "      <th>888</th>\n",
       "      <td>woman</td>\n",
       "      <td>NaN</td>\n",
       "    </tr>\n",
       "    <tr>\n",
       "      <th>889</th>\n",
       "      <td>man</td>\n",
       "      <td>C</td>\n",
       "    </tr>\n",
       "    <tr>\n",
       "      <th>890</th>\n",
       "      <td>man</td>\n",
       "      <td>NaN</td>\n",
       "    </tr>\n",
       "  </tbody>\n",
       "</table>\n",
       "<p>891 rows × 2 columns</p>\n",
       "</div>"
      ],
      "text/plain": [
       "       who deck\n",
       "0      man  NaN\n",
       "1    woman    C\n",
       "2    woman  NaN\n",
       "3    woman    C\n",
       "4      man  NaN\n",
       "..     ...  ...\n",
       "886    man  NaN\n",
       "887  woman    B\n",
       "888  woman  NaN\n",
       "889    man    C\n",
       "890    man  NaN\n",
       "\n",
       "[891 rows x 2 columns]"
      ]
     },
     "execution_count": 13,
     "metadata": {},
     "output_type": "execute_result"
    }
   ],
   "source": [
    "%%time\n",
    "titanic_data[['who','deck']]"
   ]
  },
  {
   "cell_type": "markdown",
   "id": "a38a9bc9",
   "metadata": {},
   "source": [
    "### This is an example of decrease in access time after optimization"
   ]
  },
  {
   "cell_type": "code",
   "execution_count": null,
   "id": "adbd894e",
   "metadata": {},
   "outputs": [],
   "source": []
  },
  {
   "cell_type": "code",
   "execution_count": null,
   "id": "0ebe9c0a",
   "metadata": {},
   "outputs": [],
   "source": []
  }
 ],
 "metadata": {
  "kernelspec": {
   "display_name": "Python 3 (ipykernel)",
   "language": "python",
   "name": "python3"
  },
  "language_info": {
   "codemirror_mode": {
    "name": "ipython",
    "version": 3
   },
   "file_extension": ".py",
   "mimetype": "text/x-python",
   "name": "python",
   "nbconvert_exporter": "python",
   "pygments_lexer": "ipython3",
   "version": "3.9.7"
  }
 },
 "nbformat": 4,
 "nbformat_minor": 5
}
